{
 "cells": [
  {
   "cell_type": "code",
   "execution_count": null,
   "id": "424dbda7",
   "metadata": {},
   "outputs": [],
   "source": [
    "\n",
    "def checkKey(dict, key):\n",
    "\n",
    "    if key in dict.keys():\n",
    "        print(\"Present, \", end =\" \")\n",
    "        print(\"value =\", dict[key])\n",
    "    else:\n",
    "        print(\"Not present\")\n",
    "\n",
    "\n",
    "dict = {'a': 100, 'b':200, 'c':300}\n",
    "\n",
    "key = 'b'\n",
    "checkKey(dict, key)\n",
    "\n",
    "key = 'w'\n",
    "checkKey(dict, key)\n"
   ]
  }
 ],
 "metadata": {
  "kernelspec": {
   "display_name": "Python 3",
   "language": "python",
   "name": "python3"
  },
  "language_info": {
   "codemirror_mode": {
    "name": "ipython",
    "version": 3
   },
   "file_extension": ".py",
   "mimetype": "text/x-python",
   "name": "python",
   "nbconvert_exporter": "python",
   "pygments_lexer": "ipython3",
   "version": "3.8.8"
  }
 },
 "nbformat": 4,
 "nbformat_minor": 5
}
