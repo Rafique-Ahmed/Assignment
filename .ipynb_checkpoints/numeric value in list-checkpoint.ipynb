{
 "cells": [
  {
   "cell_type": "code",
   "execution_count": null,
   "id": "25667e49",
   "metadata": {},
   "outputs": [],
   "source": [
    "\n",
    "test_list = [ 1, 6, 3, 5, 3, 4 ]\n",
    " \n",
    "print(\"Checking if 4 exists in list ( using loop ) : \")\n",
    " \n",
    "\n",
    "for i in test_list:\n",
    "    if(i == 4) :\n",
    "        print (\"Element Exists\")\n",
    " \n",
    "print(\"Checking if 4 exists in list ( using in ) : \")\n",
    " \n",
    "\n",
    "if (4 in test_list):\n",
    "    print (\"Element Exists\")"
   ]
  }
 ],
 "metadata": {
  "kernelspec": {
   "display_name": "Python 3",
   "language": "python",
   "name": "python3"
  },
  "language_info": {
   "codemirror_mode": {
    "name": "ipython",
    "version": 3
   },
   "file_extension": ".py",
   "mimetype": "text/x-python",
   "name": "python",
   "nbconvert_exporter": "python",
   "pygments_lexer": "ipython3",
   "version": "3.8.8"
  }
 },
 "nbformat": 4,
 "nbformat_minor": 5
}
